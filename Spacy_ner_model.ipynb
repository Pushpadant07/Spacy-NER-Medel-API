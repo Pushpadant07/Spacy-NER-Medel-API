{
  "nbformat": 4,
  "nbformat_minor": 0,
  "metadata": {
    "colab": {
      "name": "Spacy_ner_model.ipynb",
      "provenance": []
    },
    "kernelspec": {
      "name": "python3",
      "display_name": "Python 3"
    },
    "language_info": {
      "name": "python"
    }
  },
  "cells": [
    {
      "cell_type": "code",
      "metadata": {
        "id": "JIhzpqvrwbVe"
      },
      "source": [
        "from __future__ import unicode_literals, print_function\n",
        "import plac\n",
        "import random\n",
        "from pathlib import Path\n",
        "import spacy\n",
        "from tqdm import tqdm"
      ],
      "execution_count": 11,
      "outputs": []
    },
    {
      "cell_type": "code",
      "metadata": {
        "id": "KqoSJC2_wxN3"
      },
      "source": [
        "TRAIN_DATA = [\n",
        "              (\"I recently ordered from Sony International. \",{\"entities\":[(24,28,\"ORG\")]}),\n",
        "(\"Microwave stainless steel of price $ 76 is on 50% sale. \",{\"entities\":[(0,9,\"PRODUCT\"),(35,39,\"MONEY\"),(46,49,\"PERCENT\")]}),\n",
        "(\"1.6-cu ft of volume is dispatched,{entities. \",{\"entities\":[(0,3,\"QUANTITY\"),(23,33,\"Event\")]}),\n",
        "(\"$ 34 for each item is reduced ,{entities. \",{\"entities\":[(0,4,\"MONEY\"),(22,29,\"Event\")]}),\n",
        "(\"Please approve for buyer number 645,{entities. \",{\"entities\":[(19,35,\"Buyer number\")]}),\n",
        "(\"Please approve for sku 2397645,{entities. \",{\"entities\":[(19,30,\"SKU\")]}),\n",
        "(\"You have received PO number 23-00654 from us. \",{\"entities\":[(18,36,\"PO\")]}),\n",
        "(\"As of 04/08/2020, entry is barred. \",{\"entities\":[(6,16,\"DATE\")]}),\n",
        "(\"Your credit is 90% pre-approved. \",{\"entities\":[(15,18,\"PERCENT\")]}),\n",
        "(\"Item # 2398176 is not available. \",{\"entities\":[(0,14,\"SKU\")]}),\n",
        "(\"Price increase is forwarded. \",{\"entities\":[(0,14,\"Event\")]}),\n",
        "(\"Flipkart is recognized as leader in market. \",{\"entities\":[(0,8,\"ORG\")]}),\n",
        "(\"I recently ordered from Max. \",{\"entities\":[(24,27,\"ORG\")]}),\n",
        "(\"I got my clock fixed. \",{\"entities\":[(9,14,\"PRODUCT\")]}),\n",
        "(\"I repaired my computer. \",{\"entities\":[(14,22,\"PRODUCT\")]}),\n",
        "(\"I rented a screwdriver from our neighbour. \",{\"entities\":[(11,22,\"PRODUCT\")]}),\n",
        "(\"I bought a new Washer. \",{\"entities\":[(15,21,\"PRODUCT\")]}),\n",
        "(\"Fridge can be ordered in Amazon. \",{\"entities\":[(25,31,\"ORG\")]}),\n",
        "(\"I ordered this from ShopClues. \",{\"entities\":[(20,29,\"ORG\")]}),\n",
        "(\"I was driving a BMW. \",{\"entities\":[(16,19,\"PRODUCT\")]}),\n",
        "(\"I recently ordered a book from Amazon. \",{\"entities\":[(31,37,\"ORG\")]}),\n",
        "(\"Walmart is a leading e-commerce company. \",{\"entities\":[(0,7,\"ORG\")]}),\n",
        "]"
      ],
      "execution_count": null,
      "outputs": []
    },
    {
      "cell_type": "code",
      "metadata": {
        "colab": {
          "base_uri": "https://localhost:8080/"
        },
        "id": "bg3jNnr7xqwj",
        "outputId": "077a5423-897a-455b-ab42-765f1796fe52"
      },
      "source": [
        "TRAIN_DATA"
      ],
      "execution_count": null,
      "outputs": [
        {
          "output_type": "execute_result",
          "data": {
            "text/plain": [
              "[('I recently ordered from Sony International. ',\n",
              "  {'entities': [(24, 28, 'ORG')]}),\n",
              " ('Microwave stainless steel of price $ 76 is on 50% sale. ',\n",
              "  {'entities': [(0, 9, 'PRODUCT'), (35, 39, 'MONEY'), (46, 49, 'PERCENT')]}),\n",
              " ('1.6-cu ft of volume is dispatched,{entities. ',\n",
              "  {'entities': [(0, 3, 'QUANTITY'), (23, 33, 'Event')]}),\n",
              " ('$ 34 for each item is reduced ,{entities. ',\n",
              "  {'entities': [(0, 4, 'MONEY'), (22, 29, 'Event')]}),\n",
              " ('Please approve for buyer number 645,{entities. ',\n",
              "  {'entities': [(19, 35, 'Buyer number')]}),\n",
              " ('Please approve for sku 2397645,{entities. ',\n",
              "  {'entities': [(19, 30, 'SKU')]}),\n",
              " ('You have received PO number 23-00654 from us. ',\n",
              "  {'entities': [(18, 36, 'PO')]}),\n",
              " ('As of 04/08/2020, entry is barred. ', {'entities': [(6, 16, 'DATE')]}),\n",
              " ('Your credit is 90% pre-approved. ', {'entities': [(15, 18, 'PERCENT')]}),\n",
              " ('Item # 2398176 is not available. ', {'entities': [(0, 14, 'SKU')]}),\n",
              " ('Price increase is forwarded. ', {'entities': [(0, 14, 'Event')]}),\n",
              " ('Flipkart is recognized as leader in market. ',\n",
              "  {'entities': [(0, 8, 'ORG')]}),\n",
              " ('I recently ordered from Max. ', {'entities': [(24, 27, 'ORG')]}),\n",
              " ('I got my clock fixed. ', {'entities': [(9, 14, 'PRODUCT')]}),\n",
              " ('I repaired my computer. ', {'entities': [(14, 22, 'PRODUCT')]}),\n",
              " ('I rented a screwdriver from our neighbour. ',\n",
              "  {'entities': [(11, 22, 'PRODUCT')]}),\n",
              " ('I bought a new Washer. ', {'entities': [(15, 21, 'PRODUCT')]}),\n",
              " ('Fridge can be ordered in Amazon. ', {'entities': [(25, 31, 'ORG')]}),\n",
              " ('I ordered this from ShopClues. ', {'entities': [(20, 29, 'ORG')]}),\n",
              " ('I was driving a BMW. ', {'entities': [(16, 19, 'PRODUCT')]}),\n",
              " ('I recently ordered a book from Amazon. ', {'entities': [(31, 37, 'ORG')]}),\n",
              " ('Walmart is a leading e-commerce company. ', {'entities': [(0, 7, 'ORG')]})]"
            ]
          },
          "metadata": {
            "tags": []
          },
          "execution_count": 3
        }
      ]
    },
    {
      "cell_type": "code",
      "metadata": {
        "id": "WzSkCDSRxXUK"
      },
      "source": [
        "model = None\n",
        "output_dir=Path(\"D:\\\\model\")\n",
        "n_iter=100"
      ],
      "execution_count": null,
      "outputs": []
    },
    {
      "cell_type": "code",
      "metadata": {
        "colab": {
          "base_uri": "https://localhost:8080/"
        },
        "id": "R5_l1kadCHuk",
        "outputId": "0aa3ffff-865a-4547-e4d3-f72d01360267"
      },
      "source": [
        "\n",
        "#load the model\n",
        "\n",
        "if model is not None:\n",
        "    nlp = spacy.load(model)  \n",
        "    print(\"Loaded model '%s'\" % model)\n",
        "else:\n",
        "    nlp = spacy.blank('en')  \n",
        "    print(\"Created blank 'en' model\")\n",
        "\n",
        "#set up the pipeline\n",
        "\n",
        "if 'ner' not in nlp.pipe_names:\n",
        "    ner = nlp.create_pipe('ner')\n",
        "    nlp.add_pipe(ner, last=True)\n",
        "else:\n",
        "    ner = nlp.get_pipe('ner')"
      ],
      "execution_count": null,
      "outputs": [
        {
          "output_type": "stream",
          "text": [
            "Created blank 'en' model\n"
          ],
          "name": "stdout"
        }
      ]
    },
    {
      "cell_type": "code",
      "metadata": {
        "colab": {
          "base_uri": "https://localhost:8080/"
        },
        "id": "9BY7IcGDCPIX",
        "outputId": "19cfcbc6-fa2f-46b5-e061-7820b2b82cc7"
      },
      "source": [
        "for _, annotations in TRAIN_DATA:\n",
        "    for ent in annotations.get('entities'):\n",
        "        ner.add_label(ent[2])\n",
        "\n",
        "other_pipes = [pipe for pipe in nlp.pipe_names if pipe != 'ner']\n",
        "with nlp.disable_pipes(*other_pipes):  # only train NER\n",
        "    optimizer = nlp.begin_training()\n",
        "    for itn in range(n_iter):\n",
        "        random.shuffle(TRAIN_DATA)\n",
        "        losses = {}\n",
        "        for text, annotations in tqdm(TRAIN_DATA):\n",
        "            nlp.update(\n",
        "                [text],  \n",
        "                [annotations],  \n",
        "                drop=0.5,  \n",
        "                sgd=optimizer,\n",
        "                losses=losses)\n",
        "        print(losses)"
      ],
      "execution_count": null,
      "outputs": [
        {
          "output_type": "stream",
          "text": [
            "100%|██████████| 22/22 [00:01<00:00, 20.56it/s]\n",
            " 14%|█▎        | 3/22 [00:00<00:00, 23.10it/s]"
          ],
          "name": "stderr"
        },
        {
          "output_type": "stream",
          "text": [
            "{'ner': 114.19284735666588}\n"
          ],
          "name": "stdout"
        },
        {
          "output_type": "stream",
          "text": [
            "100%|██████████| 22/22 [00:01<00:00, 21.58it/s]\n",
            " 14%|█▎        | 3/22 [00:00<00:00, 21.81it/s]"
          ],
          "name": "stderr"
        },
        {
          "output_type": "stream",
          "text": [
            "{'ner': 43.26500065468804}\n"
          ],
          "name": "stdout"
        },
        {
          "output_type": "stream",
          "text": [
            "100%|██████████| 22/22 [00:01<00:00, 21.89it/s]\n",
            " 14%|█▎        | 3/22 [00:00<00:00, 21.21it/s]"
          ],
          "name": "stderr"
        },
        {
          "output_type": "stream",
          "text": [
            "{'ner': 41.37746689751202}\n"
          ],
          "name": "stdout"
        },
        {
          "output_type": "stream",
          "text": [
            "100%|██████████| 22/22 [00:01<00:00, 21.22it/s]\n",
            " 14%|█▎        | 3/22 [00:00<00:00, 22.54it/s]"
          ],
          "name": "stderr"
        },
        {
          "output_type": "stream",
          "text": [
            "{'ner': 38.307395240658245}\n"
          ],
          "name": "stdout"
        },
        {
          "output_type": "stream",
          "text": [
            "100%|██████████| 22/22 [00:01<00:00, 21.20it/s]\n",
            " 14%|█▎        | 3/22 [00:00<00:00, 22.03it/s]"
          ],
          "name": "stderr"
        },
        {
          "output_type": "stream",
          "text": [
            "{'ner': 38.23249642020627}\n"
          ],
          "name": "stdout"
        },
        {
          "output_type": "stream",
          "text": [
            "100%|██████████| 22/22 [00:01<00:00, 21.25it/s]\n",
            " 14%|█▎        | 3/22 [00:00<00:00, 20.63it/s]"
          ],
          "name": "stderr"
        },
        {
          "output_type": "stream",
          "text": [
            "{'ner': 31.33644044508847}\n"
          ],
          "name": "stdout"
        },
        {
          "output_type": "stream",
          "text": [
            "100%|██████████| 22/22 [00:01<00:00, 21.65it/s]\n",
            " 14%|█▎        | 3/22 [00:00<00:00, 20.88it/s]"
          ],
          "name": "stderr"
        },
        {
          "output_type": "stream",
          "text": [
            "{'ner': 35.24223544991287}\n"
          ],
          "name": "stdout"
        },
        {
          "output_type": "stream",
          "text": [
            "100%|██████████| 22/22 [00:01<00:00, 21.13it/s]\n",
            " 14%|█▎        | 3/22 [00:00<00:00, 21.35it/s]"
          ],
          "name": "stderr"
        },
        {
          "output_type": "stream",
          "text": [
            "{'ner': 28.00564568928819}\n"
          ],
          "name": "stdout"
        },
        {
          "output_type": "stream",
          "text": [
            "100%|██████████| 22/22 [00:01<00:00, 21.33it/s]\n",
            "  9%|▉         | 2/22 [00:00<00:01, 18.88it/s]"
          ],
          "name": "stderr"
        },
        {
          "output_type": "stream",
          "text": [
            "{'ner': 25.916267464926648}\n"
          ],
          "name": "stdout"
        },
        {
          "output_type": "stream",
          "text": [
            "100%|██████████| 22/22 [00:01<00:00, 20.88it/s]\n",
            " 14%|█▎        | 3/22 [00:00<00:00, 21.00it/s]"
          ],
          "name": "stderr"
        },
        {
          "output_type": "stream",
          "text": [
            "{'ner': 21.850854098919278}\n"
          ],
          "name": "stdout"
        },
        {
          "output_type": "stream",
          "text": [
            "100%|██████████| 22/22 [00:01<00:00, 21.14it/s]\n",
            " 14%|█▎        | 3/22 [00:00<00:00, 23.44it/s]"
          ],
          "name": "stderr"
        },
        {
          "output_type": "stream",
          "text": [
            "{'ner': 28.88797603522572}\n"
          ],
          "name": "stdout"
        },
        {
          "output_type": "stream",
          "text": [
            "100%|██████████| 22/22 [00:01<00:00, 21.27it/s]\n",
            " 14%|█▎        | 3/22 [00:00<00:00, 22.93it/s]"
          ],
          "name": "stderr"
        },
        {
          "output_type": "stream",
          "text": [
            "{'ner': 18.84005517028564}\n"
          ],
          "name": "stdout"
        },
        {
          "output_type": "stream",
          "text": [
            "100%|██████████| 22/22 [00:01<00:00, 21.36it/s]\n",
            " 14%|█▎        | 3/22 [00:00<00:00, 20.31it/s]"
          ],
          "name": "stderr"
        },
        {
          "output_type": "stream",
          "text": [
            "{'ner': 31.8186628675359}\n"
          ],
          "name": "stdout"
        },
        {
          "output_type": "stream",
          "text": [
            "100%|██████████| 22/22 [00:01<00:00, 21.08it/s]\n",
            " 14%|█▎        | 3/22 [00:00<00:00, 21.99it/s]"
          ],
          "name": "stderr"
        },
        {
          "output_type": "stream",
          "text": [
            "{'ner': 20.47736346238773}\n"
          ],
          "name": "stdout"
        },
        {
          "output_type": "stream",
          "text": [
            "100%|██████████| 22/22 [00:01<00:00, 21.61it/s]\n",
            " 14%|█▎        | 3/22 [00:00<00:00, 21.77it/s]"
          ],
          "name": "stderr"
        },
        {
          "output_type": "stream",
          "text": [
            "{'ner': 18.45242974284452}\n"
          ],
          "name": "stdout"
        },
        {
          "output_type": "stream",
          "text": [
            "100%|██████████| 22/22 [00:01<00:00, 21.59it/s]\n",
            " 14%|█▎        | 3/22 [00:00<00:00, 21.89it/s]"
          ],
          "name": "stderr"
        },
        {
          "output_type": "stream",
          "text": [
            "{'ner': 18.368174199627877}\n"
          ],
          "name": "stdout"
        },
        {
          "output_type": "stream",
          "text": [
            "100%|██████████| 22/22 [00:01<00:00, 21.20it/s]\n",
            " 14%|█▎        | 3/22 [00:00<00:00, 22.78it/s]"
          ],
          "name": "stderr"
        },
        {
          "output_type": "stream",
          "text": [
            "{'ner': 23.827995356467103}\n"
          ],
          "name": "stdout"
        },
        {
          "output_type": "stream",
          "text": [
            "100%|██████████| 22/22 [00:01<00:00, 21.68it/s]\n",
            " 14%|█▎        | 3/22 [00:00<00:00, 22.42it/s]"
          ],
          "name": "stderr"
        },
        {
          "output_type": "stream",
          "text": [
            "{'ner': 18.86004563658089}\n"
          ],
          "name": "stdout"
        },
        {
          "output_type": "stream",
          "text": [
            "100%|██████████| 22/22 [00:00<00:00, 22.07it/s]\n",
            " 14%|█▎        | 3/22 [00:00<00:00, 22.35it/s]"
          ],
          "name": "stderr"
        },
        {
          "output_type": "stream",
          "text": [
            "{'ner': 34.46227447551395}\n"
          ],
          "name": "stdout"
        },
        {
          "output_type": "stream",
          "text": [
            "100%|██████████| 22/22 [00:01<00:00, 21.16it/s]\n",
            " 14%|█▎        | 3/22 [00:00<00:00, 22.01it/s]"
          ],
          "name": "stderr"
        },
        {
          "output_type": "stream",
          "text": [
            "{'ner': 37.03864352221042}\n"
          ],
          "name": "stdout"
        },
        {
          "output_type": "stream",
          "text": [
            "100%|██████████| 22/22 [00:01<00:00, 21.48it/s]\n",
            " 14%|█▎        | 3/22 [00:00<00:00, 22.31it/s]"
          ],
          "name": "stderr"
        },
        {
          "output_type": "stream",
          "text": [
            "{'ner': 19.972466530669745}\n"
          ],
          "name": "stdout"
        },
        {
          "output_type": "stream",
          "text": [
            "100%|██████████| 22/22 [00:01<00:00, 20.81it/s]\n",
            " 14%|█▎        | 3/22 [00:00<00:00, 21.98it/s]"
          ],
          "name": "stderr"
        },
        {
          "output_type": "stream",
          "text": [
            "{'ner': 25.51361902902721}\n"
          ],
          "name": "stdout"
        },
        {
          "output_type": "stream",
          "text": [
            "100%|██████████| 22/22 [00:01<00:00, 20.76it/s]\n",
            " 14%|█▎        | 3/22 [00:00<00:00, 21.30it/s]"
          ],
          "name": "stderr"
        },
        {
          "output_type": "stream",
          "text": [
            "{'ner': 28.510516737210345}\n"
          ],
          "name": "stdout"
        },
        {
          "output_type": "stream",
          "text": [
            "100%|██████████| 22/22 [00:01<00:00, 21.03it/s]\n",
            " 14%|█▎        | 3/22 [00:00<00:00, 22.54it/s]"
          ],
          "name": "stderr"
        },
        {
          "output_type": "stream",
          "text": [
            "{'ner': 19.79661672341579}\n"
          ],
          "name": "stdout"
        },
        {
          "output_type": "stream",
          "text": [
            "100%|██████████| 22/22 [00:01<00:00, 21.23it/s]\n",
            " 14%|█▎        | 3/22 [00:00<00:00, 21.78it/s]"
          ],
          "name": "stderr"
        },
        {
          "output_type": "stream",
          "text": [
            "{'ner': 22.634981342172853}\n"
          ],
          "name": "stdout"
        },
        {
          "output_type": "stream",
          "text": [
            "100%|██████████| 22/22 [00:01<00:00, 20.81it/s]\n",
            " 14%|█▎        | 3/22 [00:00<00:00, 21.01it/s]"
          ],
          "name": "stderr"
        },
        {
          "output_type": "stream",
          "text": [
            "{'ner': 18.496439359691767}\n"
          ],
          "name": "stdout"
        },
        {
          "output_type": "stream",
          "text": [
            "100%|██████████| 22/22 [00:01<00:00, 21.37it/s]\n",
            " 14%|█▎        | 3/22 [00:00<00:00, 21.30it/s]"
          ],
          "name": "stderr"
        },
        {
          "output_type": "stream",
          "text": [
            "{'ner': 31.080372528237127}\n"
          ],
          "name": "stdout"
        },
        {
          "output_type": "stream",
          "text": [
            "100%|██████████| 22/22 [00:01<00:00, 21.52it/s]\n",
            "  9%|▉         | 2/22 [00:00<00:01, 19.69it/s]"
          ],
          "name": "stderr"
        },
        {
          "output_type": "stream",
          "text": [
            "{'ner': 22.84629524042591}\n"
          ],
          "name": "stdout"
        },
        {
          "output_type": "stream",
          "text": [
            "100%|██████████| 22/22 [00:01<00:00, 20.31it/s]\n",
            " 14%|█▎        | 3/22 [00:00<00:00, 20.92it/s]"
          ],
          "name": "stderr"
        },
        {
          "output_type": "stream",
          "text": [
            "{'ner': 19.932340597717044}\n"
          ],
          "name": "stdout"
        },
        {
          "output_type": "stream",
          "text": [
            "100%|██████████| 22/22 [00:01<00:00, 20.89it/s]\n",
            " 14%|█▎        | 3/22 [00:00<00:00, 20.31it/s]"
          ],
          "name": "stderr"
        },
        {
          "output_type": "stream",
          "text": [
            "{'ner': 17.365419726856047}\n"
          ],
          "name": "stdout"
        },
        {
          "output_type": "stream",
          "text": [
            "100%|██████████| 22/22 [00:01<00:00, 19.61it/s]\n",
            " 14%|█▎        | 3/22 [00:00<00:00, 22.55it/s]"
          ],
          "name": "stderr"
        },
        {
          "output_type": "stream",
          "text": [
            "{'ner': 18.627356952625938}\n"
          ],
          "name": "stdout"
        },
        {
          "output_type": "stream",
          "text": [
            "100%|██████████| 22/22 [00:01<00:00, 19.47it/s]\n",
            "  9%|▉         | 2/22 [00:00<00:01, 18.68it/s]"
          ],
          "name": "stderr"
        },
        {
          "output_type": "stream",
          "text": [
            "{'ner': 14.62594963891934}\n"
          ],
          "name": "stdout"
        },
        {
          "output_type": "stream",
          "text": [
            "100%|██████████| 22/22 [00:01<00:00, 18.94it/s]\n",
            "  9%|▉         | 2/22 [00:00<00:01, 18.33it/s]"
          ],
          "name": "stderr"
        },
        {
          "output_type": "stream",
          "text": [
            "{'ner': 19.09013867000994}\n"
          ],
          "name": "stdout"
        },
        {
          "output_type": "stream",
          "text": [
            "100%|██████████| 22/22 [00:01<00:00, 18.04it/s]\n",
            "  9%|▉         | 2/22 [00:00<00:01, 18.78it/s]"
          ],
          "name": "stderr"
        },
        {
          "output_type": "stream",
          "text": [
            "{'ner': 14.945486993158983}\n"
          ],
          "name": "stdout"
        },
        {
          "output_type": "stream",
          "text": [
            "100%|██████████| 22/22 [00:01<00:00, 18.45it/s]\n",
            "  9%|▉         | 2/22 [00:00<00:01, 18.13it/s]"
          ],
          "name": "stderr"
        },
        {
          "output_type": "stream",
          "text": [
            "{'ner': 20.805902793532802}\n"
          ],
          "name": "stdout"
        },
        {
          "output_type": "stream",
          "text": [
            "100%|██████████| 22/22 [00:01<00:00, 17.82it/s]\n",
            "  9%|▉         | 2/22 [00:00<00:01, 16.83it/s]"
          ],
          "name": "stderr"
        },
        {
          "output_type": "stream",
          "text": [
            "{'ner': 13.985365581163075}\n"
          ],
          "name": "stdout"
        },
        {
          "output_type": "stream",
          "text": [
            "100%|██████████| 22/22 [00:01<00:00, 17.52it/s]\n",
            "  9%|▉         | 2/22 [00:00<00:01, 18.05it/s]"
          ],
          "name": "stderr"
        },
        {
          "output_type": "stream",
          "text": [
            "{'ner': 10.194716425496116}\n"
          ],
          "name": "stdout"
        },
        {
          "output_type": "stream",
          "text": [
            "100%|██████████| 22/22 [00:01<00:00, 17.66it/s]\n",
            "  9%|▉         | 2/22 [00:00<00:01, 17.93it/s]"
          ],
          "name": "stderr"
        },
        {
          "output_type": "stream",
          "text": [
            "{'ner': 19.526462313631015}\n"
          ],
          "name": "stdout"
        },
        {
          "output_type": "stream",
          "text": [
            "100%|██████████| 22/22 [00:01<00:00, 17.63it/s]\n",
            "  9%|▉         | 2/22 [00:00<00:01, 16.74it/s]"
          ],
          "name": "stderr"
        },
        {
          "output_type": "stream",
          "text": [
            "{'ner': 18.672398882210214}\n"
          ],
          "name": "stdout"
        },
        {
          "output_type": "stream",
          "text": [
            "100%|██████████| 22/22 [00:01<00:00, 17.51it/s]\n",
            "  9%|▉         | 2/22 [00:00<00:01, 16.95it/s]"
          ],
          "name": "stderr"
        },
        {
          "output_type": "stream",
          "text": [
            "{'ner': 13.876983525640592}\n"
          ],
          "name": "stdout"
        },
        {
          "output_type": "stream",
          "text": [
            "100%|██████████| 22/22 [00:01<00:00, 17.36it/s]\n",
            "  9%|▉         | 2/22 [00:00<00:01, 18.22it/s]"
          ],
          "name": "stderr"
        },
        {
          "output_type": "stream",
          "text": [
            "{'ner': 14.701698915523224}\n"
          ],
          "name": "stdout"
        },
        {
          "output_type": "stream",
          "text": [
            "100%|██████████| 22/22 [00:01<00:00, 17.67it/s]\n",
            "  9%|▉         | 2/22 [00:00<00:01, 17.59it/s]"
          ],
          "name": "stderr"
        },
        {
          "output_type": "stream",
          "text": [
            "{'ner': 8.903338785022537}\n"
          ],
          "name": "stdout"
        },
        {
          "output_type": "stream",
          "text": [
            "100%|██████████| 22/22 [00:01<00:00, 17.46it/s]\n",
            "  9%|▉         | 2/22 [00:00<00:01, 17.54it/s]"
          ],
          "name": "stderr"
        },
        {
          "output_type": "stream",
          "text": [
            "{'ner': 8.502497663827624}\n"
          ],
          "name": "stdout"
        },
        {
          "output_type": "stream",
          "text": [
            "100%|██████████| 22/22 [00:01<00:00, 17.57it/s]\n",
            "  9%|▉         | 2/22 [00:00<00:01, 18.49it/s]"
          ],
          "name": "stderr"
        },
        {
          "output_type": "stream",
          "text": [
            "{'ner': 15.62409630932655}\n"
          ],
          "name": "stdout"
        },
        {
          "output_type": "stream",
          "text": [
            "100%|██████████| 22/22 [00:01<00:00, 17.44it/s]\n",
            "  9%|▉         | 2/22 [00:00<00:01, 18.40it/s]"
          ],
          "name": "stderr"
        },
        {
          "output_type": "stream",
          "text": [
            "{'ner': 9.003215989647826}\n"
          ],
          "name": "stdout"
        },
        {
          "output_type": "stream",
          "text": [
            "100%|██████████| 22/22 [00:01<00:00, 17.69it/s]\n",
            "  9%|▉         | 2/22 [00:00<00:01, 18.27it/s]"
          ],
          "name": "stderr"
        },
        {
          "output_type": "stream",
          "text": [
            "{'ner': 4.919419628743431}\n"
          ],
          "name": "stdout"
        },
        {
          "output_type": "stream",
          "text": [
            "100%|██████████| 22/22 [00:01<00:00, 17.56it/s]\n",
            "  9%|▉         | 2/22 [00:00<00:01, 17.16it/s]"
          ],
          "name": "stderr"
        },
        {
          "output_type": "stream",
          "text": [
            "{'ner': 7.247762432266985}\n"
          ],
          "name": "stdout"
        },
        {
          "output_type": "stream",
          "text": [
            "100%|██████████| 22/22 [00:01<00:00, 16.79it/s]\n",
            "  9%|▉         | 2/22 [00:00<00:01, 18.84it/s]"
          ],
          "name": "stderr"
        },
        {
          "output_type": "stream",
          "text": [
            "{'ner': 11.473278411318699}\n"
          ],
          "name": "stdout"
        },
        {
          "output_type": "stream",
          "text": [
            "100%|██████████| 22/22 [00:01<00:00, 18.72it/s]\n",
            "  9%|▉         | 2/22 [00:00<00:01, 19.13it/s]"
          ],
          "name": "stderr"
        },
        {
          "output_type": "stream",
          "text": [
            "{'ner': 3.233780976249073}\n"
          ],
          "name": "stdout"
        },
        {
          "output_type": "stream",
          "text": [
            "100%|██████████| 22/22 [00:01<00:00, 19.33it/s]\n",
            "  9%|▉         | 2/22 [00:00<00:01, 19.85it/s]"
          ],
          "name": "stderr"
        },
        {
          "output_type": "stream",
          "text": [
            "{'ner': 11.406433404023728}\n"
          ],
          "name": "stdout"
        },
        {
          "output_type": "stream",
          "text": [
            "100%|██████████| 22/22 [00:01<00:00, 19.06it/s]\n",
            " 14%|█▎        | 3/22 [00:00<00:00, 19.96it/s]"
          ],
          "name": "stderr"
        },
        {
          "output_type": "stream",
          "text": [
            "{'ner': 7.498747847760967}\n"
          ],
          "name": "stdout"
        },
        {
          "output_type": "stream",
          "text": [
            "100%|██████████| 22/22 [00:01<00:00, 20.08it/s]\n",
            " 14%|█▎        | 3/22 [00:00<00:00, 21.26it/s]"
          ],
          "name": "stderr"
        },
        {
          "output_type": "stream",
          "text": [
            "{'ner': 6.107909927053433}\n"
          ],
          "name": "stdout"
        },
        {
          "output_type": "stream",
          "text": [
            "100%|██████████| 22/22 [00:01<00:00, 20.42it/s]\n",
            " 14%|█▎        | 3/22 [00:00<00:00, 21.44it/s]"
          ],
          "name": "stderr"
        },
        {
          "output_type": "stream",
          "text": [
            "{'ner': 7.31478800015419}\n"
          ],
          "name": "stdout"
        },
        {
          "output_type": "stream",
          "text": [
            "100%|██████████| 22/22 [00:01<00:00, 21.13it/s]\n",
            " 14%|█▎        | 3/22 [00:00<00:00, 22.67it/s]"
          ],
          "name": "stderr"
        },
        {
          "output_type": "stream",
          "text": [
            "{'ner': 4.44015863789755}\n"
          ],
          "name": "stdout"
        },
        {
          "output_type": "stream",
          "text": [
            "100%|██████████| 22/22 [00:01<00:00, 21.19it/s]\n",
            " 14%|█▎        | 3/22 [00:00<00:00, 21.42it/s]"
          ],
          "name": "stderr"
        },
        {
          "output_type": "stream",
          "text": [
            "{'ner': 12.813641605449575}\n"
          ],
          "name": "stdout"
        },
        {
          "output_type": "stream",
          "text": [
            "100%|██████████| 22/22 [00:01<00:00, 21.50it/s]\n",
            " 14%|█▎        | 3/22 [00:00<00:00, 21.51it/s]"
          ],
          "name": "stderr"
        },
        {
          "output_type": "stream",
          "text": [
            "{'ner': 7.801216736292034}\n"
          ],
          "name": "stdout"
        },
        {
          "output_type": "stream",
          "text": [
            "100%|██████████| 22/22 [00:00<00:00, 22.08it/s]\n",
            " 14%|█▎        | 3/22 [00:00<00:00, 21.88it/s]"
          ],
          "name": "stderr"
        },
        {
          "output_type": "stream",
          "text": [
            "{'ner': 5.515603641128431}\n"
          ],
          "name": "stdout"
        },
        {
          "output_type": "stream",
          "text": [
            "100%|██████████| 22/22 [00:01<00:00, 21.39it/s]\n",
            " 14%|█▎        | 3/22 [00:00<00:00, 23.66it/s]"
          ],
          "name": "stderr"
        },
        {
          "output_type": "stream",
          "text": [
            "{'ner': 5.767055595045614}\n"
          ],
          "name": "stdout"
        },
        {
          "output_type": "stream",
          "text": [
            "100%|██████████| 22/22 [00:01<00:00, 21.89it/s]\n",
            " 14%|█▎        | 3/22 [00:00<00:00, 22.56it/s]"
          ],
          "name": "stderr"
        },
        {
          "output_type": "stream",
          "text": [
            "{'ner': 13.313242651479978}\n"
          ],
          "name": "stdout"
        },
        {
          "output_type": "stream",
          "text": [
            "100%|██████████| 22/22 [00:01<00:00, 21.81it/s]\n",
            " 14%|█▎        | 3/22 [00:00<00:00, 22.53it/s]"
          ],
          "name": "stderr"
        },
        {
          "output_type": "stream",
          "text": [
            "{'ner': 7.144784699760703}\n"
          ],
          "name": "stdout"
        },
        {
          "output_type": "stream",
          "text": [
            "100%|██████████| 22/22 [00:01<00:00, 21.74it/s]\n",
            " 14%|█▎        | 3/22 [00:00<00:00, 23.16it/s]"
          ],
          "name": "stderr"
        },
        {
          "output_type": "stream",
          "text": [
            "{'ner': 5.843576603469538}\n"
          ],
          "name": "stdout"
        },
        {
          "output_type": "stream",
          "text": [
            "100%|██████████| 22/22 [00:01<00:00, 21.61it/s]\n",
            "  9%|▉         | 2/22 [00:00<00:01, 19.60it/s]"
          ],
          "name": "stderr"
        },
        {
          "output_type": "stream",
          "text": [
            "{'ner': 8.02748395169811}\n"
          ],
          "name": "stdout"
        },
        {
          "output_type": "stream",
          "text": [
            "100%|██████████| 22/22 [00:01<00:00, 21.57it/s]\n",
            " 14%|█▎        | 3/22 [00:00<00:00, 21.23it/s]"
          ],
          "name": "stderr"
        },
        {
          "output_type": "stream",
          "text": [
            "{'ner': 11.776036739489445}\n"
          ],
          "name": "stdout"
        },
        {
          "output_type": "stream",
          "text": [
            "100%|██████████| 22/22 [00:01<00:00, 21.52it/s]\n",
            " 14%|█▎        | 3/22 [00:00<00:00, 22.85it/s]"
          ],
          "name": "stderr"
        },
        {
          "output_type": "stream",
          "text": [
            "{'ner': 6.715994165952898}\n"
          ],
          "name": "stdout"
        },
        {
          "output_type": "stream",
          "text": [
            "100%|██████████| 22/22 [00:01<00:00, 20.88it/s]\n",
            " 14%|█▎        | 3/22 [00:00<00:00, 22.63it/s]"
          ],
          "name": "stderr"
        },
        {
          "output_type": "stream",
          "text": [
            "{'ner': 14.994540379402505}\n"
          ],
          "name": "stdout"
        },
        {
          "output_type": "stream",
          "text": [
            "100%|██████████| 22/22 [00:01<00:00, 20.00it/s]\n",
            " 14%|█▎        | 3/22 [00:00<00:00, 22.04it/s]"
          ],
          "name": "stderr"
        },
        {
          "output_type": "stream",
          "text": [
            "{'ner': 6.200652073447847}\n"
          ],
          "name": "stdout"
        },
        {
          "output_type": "stream",
          "text": [
            "100%|██████████| 22/22 [00:01<00:00, 21.09it/s]\n",
            " 14%|█▎        | 3/22 [00:00<00:00, 23.05it/s]"
          ],
          "name": "stderr"
        },
        {
          "output_type": "stream",
          "text": [
            "{'ner': 4.219644481536768}\n"
          ],
          "name": "stdout"
        },
        {
          "output_type": "stream",
          "text": [
            "100%|██████████| 22/22 [00:01<00:00, 20.81it/s]\n",
            " 14%|█▎        | 3/22 [00:00<00:00, 20.19it/s]"
          ],
          "name": "stderr"
        },
        {
          "output_type": "stream",
          "text": [
            "{'ner': 5.787373616571856}\n"
          ],
          "name": "stdout"
        },
        {
          "output_type": "stream",
          "text": [
            "100%|██████████| 22/22 [00:01<00:00, 19.62it/s]\n",
            "  9%|▉         | 2/22 [00:00<00:01, 19.29it/s]"
          ],
          "name": "stderr"
        },
        {
          "output_type": "stream",
          "text": [
            "{'ner': 14.103044100085826}\n"
          ],
          "name": "stdout"
        },
        {
          "output_type": "stream",
          "text": [
            "100%|██████████| 22/22 [00:01<00:00, 18.34it/s]\n",
            "  9%|▉         | 2/22 [00:00<00:01, 17.31it/s]"
          ],
          "name": "stderr"
        },
        {
          "output_type": "stream",
          "text": [
            "{'ner': 8.023969861834685}\n"
          ],
          "name": "stdout"
        },
        {
          "output_type": "stream",
          "text": [
            "100%|██████████| 22/22 [00:01<00:00, 16.97it/s]\n",
            "  9%|▉         | 2/22 [00:00<00:01, 14.84it/s]"
          ],
          "name": "stderr"
        },
        {
          "output_type": "stream",
          "text": [
            "{'ner': 2.5769093133811265}\n"
          ],
          "name": "stdout"
        },
        {
          "output_type": "stream",
          "text": [
            "100%|██████████| 22/22 [00:01<00:00, 15.87it/s]\n",
            "  9%|▉         | 2/22 [00:00<00:01, 16.05it/s]"
          ],
          "name": "stderr"
        },
        {
          "output_type": "stream",
          "text": [
            "{'ner': 9.751726787022163}\n"
          ],
          "name": "stdout"
        },
        {
          "output_type": "stream",
          "text": [
            "100%|██████████| 22/22 [00:01<00:00, 15.11it/s]\n",
            "  9%|▉         | 2/22 [00:00<00:01, 15.20it/s]"
          ],
          "name": "stderr"
        },
        {
          "output_type": "stream",
          "text": [
            "{'ner': 1.2253779730093282}\n"
          ],
          "name": "stdout"
        },
        {
          "output_type": "stream",
          "text": [
            "100%|██████████| 22/22 [00:01<00:00, 14.32it/s]\n",
            "  9%|▉         | 2/22 [00:00<00:01, 13.76it/s]"
          ],
          "name": "stderr"
        },
        {
          "output_type": "stream",
          "text": [
            "{'ner': 12.328473261478297}\n"
          ],
          "name": "stdout"
        },
        {
          "output_type": "stream",
          "text": [
            "100%|██████████| 22/22 [00:01<00:00, 14.12it/s]\n",
            "  9%|▉         | 2/22 [00:00<00:01, 13.90it/s]"
          ],
          "name": "stderr"
        },
        {
          "output_type": "stream",
          "text": [
            "{'ner': 3.8241277029275618}\n"
          ],
          "name": "stdout"
        },
        {
          "output_type": "stream",
          "text": [
            "100%|██████████| 22/22 [00:01<00:00, 14.05it/s]\n",
            "  9%|▉         | 2/22 [00:00<00:01, 13.84it/s]"
          ],
          "name": "stderr"
        },
        {
          "output_type": "stream",
          "text": [
            "{'ner': 16.40030877400305}\n"
          ],
          "name": "stdout"
        },
        {
          "output_type": "stream",
          "text": [
            "100%|██████████| 22/22 [00:01<00:00, 13.94it/s]\n",
            "  9%|▉         | 2/22 [00:00<00:01, 14.63it/s]"
          ],
          "name": "stderr"
        },
        {
          "output_type": "stream",
          "text": [
            "{'ner': 3.2452563946822566}\n"
          ],
          "name": "stdout"
        },
        {
          "output_type": "stream",
          "text": [
            "100%|██████████| 22/22 [00:01<00:00, 13.78it/s]\n",
            "  9%|▉         | 2/22 [00:00<00:01, 14.39it/s]"
          ],
          "name": "stderr"
        },
        {
          "output_type": "stream",
          "text": [
            "{'ner': 3.9226228237829917}\n"
          ],
          "name": "stdout"
        },
        {
          "output_type": "stream",
          "text": [
            "100%|██████████| 22/22 [00:01<00:00, 13.78it/s]\n",
            "  9%|▉         | 2/22 [00:00<00:01, 14.06it/s]"
          ],
          "name": "stderr"
        },
        {
          "output_type": "stream",
          "text": [
            "{'ner': 9.197612354981942}\n"
          ],
          "name": "stdout"
        },
        {
          "output_type": "stream",
          "text": [
            "100%|██████████| 22/22 [00:01<00:00, 13.82it/s]\n",
            "  9%|▉         | 2/22 [00:00<00:01, 13.13it/s]"
          ],
          "name": "stderr"
        },
        {
          "output_type": "stream",
          "text": [
            "{'ner': 9.36100583567866}\n"
          ],
          "name": "stdout"
        },
        {
          "output_type": "stream",
          "text": [
            "100%|██████████| 22/22 [00:01<00:00, 13.47it/s]\n",
            "  9%|▉         | 2/22 [00:00<00:01, 14.33it/s]"
          ],
          "name": "stderr"
        },
        {
          "output_type": "stream",
          "text": [
            "{'ner': 8.835963328110179}\n"
          ],
          "name": "stdout"
        },
        {
          "output_type": "stream",
          "text": [
            "100%|██████████| 22/22 [00:01<00:00, 13.52it/s]\n",
            "  9%|▉         | 2/22 [00:00<00:01, 13.61it/s]"
          ],
          "name": "stderr"
        },
        {
          "output_type": "stream",
          "text": [
            "{'ner': 2.6284349676128533}\n"
          ],
          "name": "stdout"
        },
        {
          "output_type": "stream",
          "text": [
            "100%|██████████| 22/22 [00:01<00:00, 13.39it/s]\n",
            "  9%|▉         | 2/22 [00:00<00:01, 14.07it/s]"
          ],
          "name": "stderr"
        },
        {
          "output_type": "stream",
          "text": [
            "{'ner': 10.601754507055011}\n"
          ],
          "name": "stdout"
        },
        {
          "output_type": "stream",
          "text": [
            "100%|██████████| 22/22 [00:01<00:00, 13.27it/s]\n",
            "  9%|▉         | 2/22 [00:00<00:01, 12.26it/s]"
          ],
          "name": "stderr"
        },
        {
          "output_type": "stream",
          "text": [
            "{'ner': 5.022892227992385}\n"
          ],
          "name": "stdout"
        },
        {
          "output_type": "stream",
          "text": [
            "100%|██████████| 22/22 [00:01<00:00, 13.05it/s]\n",
            "  9%|▉         | 2/22 [00:00<00:01, 13.37it/s]"
          ],
          "name": "stderr"
        },
        {
          "output_type": "stream",
          "text": [
            "{'ner': 5.595827443652842}\n"
          ],
          "name": "stdout"
        },
        {
          "output_type": "stream",
          "text": [
            "100%|██████████| 22/22 [00:01<00:00, 13.11it/s]\n",
            "  9%|▉         | 2/22 [00:00<00:01, 13.22it/s]"
          ],
          "name": "stderr"
        },
        {
          "output_type": "stream",
          "text": [
            "{'ner': 5.240485456707733}\n"
          ],
          "name": "stdout"
        },
        {
          "output_type": "stream",
          "text": [
            "100%|██████████| 22/22 [00:01<00:00, 13.01it/s]\n",
            "  9%|▉         | 2/22 [00:00<00:01, 12.98it/s]"
          ],
          "name": "stderr"
        },
        {
          "output_type": "stream",
          "text": [
            "{'ner': 4.433711863321613}\n"
          ],
          "name": "stdout"
        },
        {
          "output_type": "stream",
          "text": [
            "100%|██████████| 22/22 [00:01<00:00, 13.14it/s]\n",
            "  9%|▉         | 2/22 [00:00<00:01, 13.61it/s]"
          ],
          "name": "stderr"
        },
        {
          "output_type": "stream",
          "text": [
            "{'ner': 10.405946097816619}\n"
          ],
          "name": "stdout"
        },
        {
          "output_type": "stream",
          "text": [
            "100%|██████████| 22/22 [00:01<00:00, 13.22it/s]\n",
            "  9%|▉         | 2/22 [00:00<00:01, 12.55it/s]"
          ],
          "name": "stderr"
        },
        {
          "output_type": "stream",
          "text": [
            "{'ner': 5.511285486065388}\n"
          ],
          "name": "stdout"
        },
        {
          "output_type": "stream",
          "text": [
            "100%|██████████| 22/22 [00:01<00:00, 12.91it/s]\n",
            "  9%|▉         | 2/22 [00:00<00:01, 13.03it/s]"
          ],
          "name": "stderr"
        },
        {
          "output_type": "stream",
          "text": [
            "{'ner': 12.135806676406323}\n"
          ],
          "name": "stdout"
        },
        {
          "output_type": "stream",
          "text": [
            "100%|██████████| 22/22 [00:01<00:00, 12.99it/s]\n",
            "  9%|▉         | 2/22 [00:00<00:01, 12.96it/s]"
          ],
          "name": "stderr"
        },
        {
          "output_type": "stream",
          "text": [
            "{'ner': 4.0056717915032065}\n"
          ],
          "name": "stdout"
        },
        {
          "output_type": "stream",
          "text": [
            "100%|██████████| 22/22 [00:01<00:00, 12.93it/s]\n",
            "  9%|▉         | 2/22 [00:00<00:01, 13.59it/s]"
          ],
          "name": "stderr"
        },
        {
          "output_type": "stream",
          "text": [
            "{'ner': 7.03804738549657}\n"
          ],
          "name": "stdout"
        },
        {
          "output_type": "stream",
          "text": [
            "100%|██████████| 22/22 [00:01<00:00, 12.97it/s]\n",
            "  9%|▉         | 2/22 [00:00<00:01, 13.45it/s]"
          ],
          "name": "stderr"
        },
        {
          "output_type": "stream",
          "text": [
            "{'ner': 9.241573841552489}\n"
          ],
          "name": "stdout"
        },
        {
          "output_type": "stream",
          "text": [
            "100%|██████████| 22/22 [00:01<00:00, 13.28it/s]\n",
            "  9%|▉         | 2/22 [00:00<00:01, 13.32it/s]"
          ],
          "name": "stderr"
        },
        {
          "output_type": "stream",
          "text": [
            "{'ner': 6.0104155502469085}\n"
          ],
          "name": "stdout"
        },
        {
          "output_type": "stream",
          "text": [
            "100%|██████████| 22/22 [00:01<00:00, 13.09it/s]\n",
            "  9%|▉         | 2/22 [00:00<00:01, 13.32it/s]"
          ],
          "name": "stderr"
        },
        {
          "output_type": "stream",
          "text": [
            "{'ner': 4.456265477348338}\n"
          ],
          "name": "stdout"
        },
        {
          "output_type": "stream",
          "text": [
            "100%|██████████| 22/22 [00:01<00:00, 13.02it/s]\n",
            "  9%|▉         | 2/22 [00:00<00:01, 13.72it/s]"
          ],
          "name": "stderr"
        },
        {
          "output_type": "stream",
          "text": [
            "{'ner': 3.4601807472930863}\n"
          ],
          "name": "stdout"
        },
        {
          "output_type": "stream",
          "text": [
            "100%|██████████| 22/22 [00:01<00:00, 12.95it/s]\n",
            "  9%|▉         | 2/22 [00:00<00:01, 13.08it/s]"
          ],
          "name": "stderr"
        },
        {
          "output_type": "stream",
          "text": [
            "{'ner': 4.795729000028917}\n"
          ],
          "name": "stdout"
        },
        {
          "output_type": "stream",
          "text": [
            "100%|██████████| 22/22 [00:01<00:00, 13.05it/s]\n",
            "  9%|▉         | 2/22 [00:00<00:01, 12.58it/s]"
          ],
          "name": "stderr"
        },
        {
          "output_type": "stream",
          "text": [
            "{'ner': 3.6782292709263795}\n"
          ],
          "name": "stdout"
        },
        {
          "output_type": "stream",
          "text": [
            "100%|██████████| 22/22 [00:01<00:00, 12.87it/s]\n",
            "  9%|▉         | 2/22 [00:00<00:01, 13.14it/s]"
          ],
          "name": "stderr"
        },
        {
          "output_type": "stream",
          "text": [
            "{'ner': 6.002915310116965}\n"
          ],
          "name": "stdout"
        },
        {
          "output_type": "stream",
          "text": [
            "100%|██████████| 22/22 [00:01<00:00, 13.09it/s]"
          ],
          "name": "stderr"
        },
        {
          "output_type": "stream",
          "text": [
            "{'ner': 4.40456381042892}\n"
          ],
          "name": "stdout"
        },
        {
          "output_type": "stream",
          "text": [
            "\n"
          ],
          "name": "stderr"
        }
      ]
    },
    {
      "cell_type": "code",
      "metadata": {
        "colab": {
          "base_uri": "https://localhost:8080/"
        },
        "id": "wyihsPCgC7K1",
        "outputId": "19d3a7bc-bb4d-463d-9868-b93c7ce58031"
      },
      "source": [
        "doc = nlp(\"Microwave stainless steel of price $ 76 is on 50% sale.\")\n",
        "print('Entities', [(ent.text, ent.start_char, ent.end_char, ent.label_) for ent in doc.ents])"
      ],
      "execution_count": null,
      "outputs": [
        {
          "output_type": "stream",
          "text": [
            "Entities [('Microwave', 0, 9, 'PRODUCT'), ('$ 76', 35, 39, 'MONEY'), ('50%', 46, 49, 'PERCENT')]\n"
          ],
          "name": "stdout"
        }
      ]
    },
    {
      "cell_type": "code",
      "metadata": {
        "colab": {
          "base_uri": "https://localhost:8080/"
        },
        "id": "1AD_r-tJ5FGk",
        "outputId": "ddbffd15-ea6b-4f6b-eba4-600895cce270"
      },
      "source": [
        "if output_dir is not None:\n",
        "    output_dir = Path(output_dir)\n",
        "    if not output_dir.exists():\n",
        "        output_dir.mkdir()\n",
        "    nlp.to_disk(output_dir)\n",
        "    print(\"Saved model to\", output_dir)"
      ],
      "execution_count": null,
      "outputs": [
        {
          "output_type": "stream",
          "text": [
            "Saved model to D:\\model\n"
          ],
          "name": "stdout"
        }
      ]
    }
  ]
}